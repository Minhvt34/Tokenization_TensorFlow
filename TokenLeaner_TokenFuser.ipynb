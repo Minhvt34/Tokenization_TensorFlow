{
  "nbformat": 4,
  "nbformat_minor": 0,
  "metadata": {
    "accelerator": "GPU",
    "colab": {
      "provenance": [],
      "machine_shape": "hm",
      "mount_file_id": "1VItf1JNgWbSVT7AtGKQB_QNa_-87Latf",
      "authorship_tag": "ABX9TyPBVQmQ+fKuCj3o4MvjzNKV",
      "include_colab_link": true
    },
    "kernelspec": {
      "display_name": "Python 3",
      "name": "python3"
    },
    "language_info": {
      "name": "python"
    }
  },
  "cells": [
    {
      "cell_type": "markdown",
      "metadata": {
        "id": "view-in-github",
        "colab_type": "text"
      },
      "source": [
        "<a href=\"https://colab.research.google.com/github/Minhvt34/Tokenization_TensorFlow/blob/main/TokenLeaner_TokenFuser.ipynb\" target=\"_parent\"><img src=\"https://colab.research.google.com/assets/colab-badge.svg\" alt=\"Open In Colab\"/></a>"
      ]
    },
    {
      "cell_type": "markdown",
      "source": [
        "# **The Import Section**"
      ],
      "metadata": {
        "id": "6J07EXmXRUHL"
      }
    },
    {
      "cell_type": "code",
      "metadata": {
        "id": "85Tt5S6NdeKY"
      },
      "source": [
        "from tensorflow.keras.layers import MultiHeadAttention, Input, Dense, Reshape\n",
        "from tensorflow.keras.layers import LayerNormalization, Layer\n",
        "from tensorflow.keras.layers import Embedding, GlobalAveragePooling1D\n",
        "from tensorflow.keras.layers import Conv2D, Dropout\n",
        "\n",
        "from tensorflow.keras.datasets import fashion_mnist\n",
        "from tensorflow import reduce_mean, float32, range, reshape\n",
        "from tensorflow.keras import utils\n",
        "from tensorflow.keras.metrics import TopKCategoricalAccuracy\n",
        "from tensorflow.nn import gelu\n",
        "from tensorflow.keras import Model, Sequential\n",
        "\n",
        "import tensorflow as tf\n",
        "from tensorflow.image import extract_patches\n",
        "\n",
        "# For tokenization\n",
        "#from tensorflow.image import extract_pathces\n",
        "\n",
        "import numpy as np\n",
        "import matplotlib.pyplot as plt\n",
        "\n",
        "#for profiling\n",
        "import time"
      ],
      "execution_count": 1,
      "outputs": []
    },
    {
      "cell_type": "code",
      "metadata": {
        "id": "W9qaux9b1h08",
        "colab": {
          "base_uri": "https://localhost:8080/"
        },
        "outputId": "1a0d2e34-fa53-42e7-8e5d-dd2e4ab273d4"
      },
      "source": [
        "(train_X, train_Y), (test_X, test_Y) = fashion_mnist.load_data()\n",
        "input_shape = train_X[0].shape"
      ],
      "execution_count": null,
      "outputs": [
        {
          "output_type": "stream",
          "name": "stdout",
          "text": [
            "Downloading data from https://storage.googleapis.com/tensorflow/tf-keras-datasets/train-labels-idx1-ubyte.gz\n",
            "29515/29515 [==============================] - 0s 0us/step\n",
            "Downloading data from https://storage.googleapis.com/tensorflow/tf-keras-datasets/train-images-idx3-ubyte.gz\n",
            "26421880/26421880 [==============================] - 1s 0us/step\n",
            "Downloading data from https://storage.googleapis.com/tensorflow/tf-keras-datasets/t10k-labels-idx1-ubyte.gz\n",
            "5148/5148 [==============================] - 0s 0us/step\n",
            "Downloading data from https://storage.googleapis.com/tensorflow/tf-keras-datasets/t10k-images-idx3-ubyte.gz\n",
            "4422102/4422102 [==============================] - 0s 0us/step\n"
          ]
        }
      ]
    },
    {
      "cell_type": "code",
      "source": [
        "n_classes = 4\n",
        "ind = np.where(train_Y < n_classes)[0]\n",
        "\n",
        "train_X = np.array(list(map(train_X.__getitem__, ind)))\n",
        "train_Y = np.array(list(map(train_Y.__getitem__, ind)))\n",
        "\n",
        "print('\\n training data shape: ', train_X.shape, 'training labels shape: ', train_Y.shape)\n",
        "\n",
        "ind = np.where(test_Y < n_classes)[0]\n",
        "\n",
        "test_X = np.array(list(map(test_X.__getitem__, ind)))\n",
        "test_Y = np.array(list(map(test_Y.__getitem__, ind)))\n",
        "\n",
        "print('\\n test data shape: ', test_X.shape, 'test labels shape: ', test_Y.shape)\n",
        "\n",
        "# convert labels to categorical labels\n",
        "train_Y_categorical = utils.to_categorical(train_Y)\n",
        "test_Y_categorical = utils.to_categorical(test_Y)\n"
      ],
      "metadata": {
        "id": "GEndk8SkViMB",
        "colab": {
          "base_uri": "https://localhost:8080/"
        },
        "outputId": "b918905a-57bc-44df-a88b-54a3d6c16af5"
      },
      "execution_count": null,
      "outputs": [
        {
          "output_type": "stream",
          "name": "stdout",
          "text": [
            "\n",
            " training data shape:  (24000, 28, 28) training labels shape:  (24000,)\n",
            "\n",
            " test data shape:  (4000, 28, 28) test labels shape:  (4000,)\n"
          ]
        }
      ]
    },
    {
      "cell_type": "code",
      "source": [
        "test_Y"
      ],
      "metadata": {
        "colab": {
          "base_uri": "https://localhost:8080/"
        },
        "id": "ic5u4IhDeqvN",
        "outputId": "a804a917-91b1-4421-c226-d9754f8e4acc"
      },
      "execution_count": null,
      "outputs": [
        {
          "output_type": "execute_result",
          "data": {
            "text/plain": [
              "array([2, 1, 1, ..., 1, 1, 1], dtype=uint8)"
            ]
          },
          "metadata": {},
          "execution_count": 11
        }
      ]
    },
    {
      "cell_type": "code",
      "source": [
        "train_X = np.reshape(train_X, (train_X.shape[0], train_X.shape[1], train_X.shape[2], 1)).astype('float32')\n",
        "test_X = np.reshape(test_X, (test_X.shape[0], test_X.shape[1], test_X.shape[2], 1)).astype('float32')"
      ],
      "metadata": {
        "id": "Dw3jVI6Z5azB"
      },
      "execution_count": null,
      "outputs": []
    },
    {
      "cell_type": "code",
      "source": [
        "!pip install --upgrade tensorflow"
      ],
      "metadata": {
        "id": "SDpe-shjCTjc"
      },
      "execution_count": null,
      "outputs": []
    },
    {
      "cell_type": "code",
      "source": [
        "import tensorflow\n",
        "tensorflow.__version__"
      ],
      "metadata": {
        "id": "xJzTaP44Vd-6",
        "colab": {
          "base_uri": "https://localhost:8080/",
          "height": 36
        },
        "outputId": "a8b09d4e-1583-4105-faa4-299339050180"
      },
      "execution_count": null,
      "outputs": [
        {
          "output_type": "execute_result",
          "data": {
            "text/plain": [
              "'2.10.0'"
            ],
            "application/vnd.google.colaboratory.intrinsic+json": {
              "type": "string"
            }
          },
          "metadata": {},
          "execution_count": 5
        }
      ]
    },
    {
      "cell_type": "code",
      "source": [],
      "metadata": {
        "id": "5De1SG8936Gu"
      },
      "execution_count": null,
      "outputs": []
    },
    {
      "cell_type": "markdown",
      "source": [
        "# **The Image Tokenizer Layer**\n",
        "\n",
        "For image data, the key is to understand what a token represents. One possibility is to let each pixel represent a token. Howver, this would not scale well with large image datasets. In the ViT architecture, Dovovitskiy and his colleagues used equal-sized patches of images to act as tokens. This sequence of tokens is then input to a traditional transformer with a minimal change to its architecture."
      ],
      "metadata": {
        "id": "EBLhWOOGDeW8"
      }
    },
    {
      "cell_type": "code",
      "source": [
        "class ImageTokenizerLayer(Layer):\n",
        "  def __init__(self, token_shape):\n",
        "    super(ImageTokenizerLayer, self).__init__()\n",
        "    self.token_shape = token_shape\n",
        "\n",
        "  def call(self, images):\n",
        "    tokens = extract_patches(\n",
        "        images = images,\n",
        "        sizes = [1, self.token_shape[0], self.token_shape[1], 1],\n",
        "        strides = [1, self.token_shape[0], self.token_shape[1], 1],\n",
        "        rates = [1, 1, 1, 1],\n",
        "        padding=\"VALID\",\n",
        "    )\n",
        "\n",
        "    return tokens"
      ],
      "metadata": {
        "id": "AegzKom0AGaG"
      },
      "execution_count": 2,
      "outputs": []
    },
    {
      "cell_type": "code",
      "source": [
        "with open(\"/content/drive/MyDrive/FEMTO_data/b1_3_hor_data_raw.npy\", \"rb\") as f:\n",
        "    b1_3_hor_data_raw = np.load(f, allow_pickle=True)\n",
        "\n",
        "with open(\"/content/drive/MyDrive/FEMTO_data/b1_3_ver_data_raw.npy\", \"rb\") as f:\n",
        "    b1_3_ver_data_raw = np.load(f, allow_pickle=True)   \n",
        "\n",
        "x_hor_test = b1_3_hor_data_raw.reshape(-1, 16, 16, 10).astype('float32')\n",
        "x_ver_test = b1_3_ver_data_raw.reshape(-1, 16, 16, 10).astype('float32')"
      ],
      "metadata": {
        "id": "Gn83O7cVC2Dr"
      },
      "execution_count": 34,
      "outputs": []
    },
    {
      "cell_type": "code",
      "source": [
        "with open(\"/content/drive/MyDrive/FEMTO_data/b1_1_hor_data_raw.npy\", \"rb\") as f:\n",
        "    b1_1_hor_data_raw = np.load(f, allow_pickle=True)\n",
        "\n",
        "with open(\"/content/drive/MyDrive/FEMTO_data/b1_1_ver_data_raw.npy\", \"rb\") as f:\n",
        "    b1_1_ver_data_raw = np.load(f, allow_pickle=True)\n",
        "\n",
        "with open(\"/content/drive/MyDrive/FEMTO_data/b1_2_hor_data_raw.npy\", \"rb\") as f:\n",
        "    b1_2_hor_data_raw = np.load(f, allow_pickle=True)\n",
        "\n",
        "with open(\"/content/drive/MyDrive/FEMTO_data/b1_2_ver_data_raw.npy\", \"rb\") as f:\n",
        "    b1_2_ver_data_raw = np.load(f, allow_pickle=True)"
      ],
      "metadata": {
        "id": "JmuEOgjX08Io"
      },
      "execution_count": 3,
      "outputs": []
    },
    {
      "cell_type": "code",
      "source": [
        "x_train = np.concatenate((b1_1_hor_data_raw.reshape(-1, 16, 16, 10).astype('float32'), \n",
        "                     b1_1_ver_data_raw.reshape(-1, 16, 16, 10).astype('float32'),\n",
        "                     b1_2_hor_data_raw.reshape(-1, 16, 16, 10).astype('float32'),\n",
        "                     b1_2_ver_data_raw.reshape(-1, 16, 16, 10).astype('float32')), axis=0)\n",
        "x_train.shape"
      ],
      "metadata": {
        "colab": {
          "base_uri": "https://localhost:8080/"
        },
        "id": "MBNvsqt81g9C",
        "outputId": "80850f88-175f-4bd3-ebab-5363414f5e83"
      },
      "execution_count": 4,
      "outputs": [
        {
          "output_type": "execute_result",
          "data": {
            "text/plain": [
              "(7348, 16, 16, 10)"
            ]
          },
          "metadata": {},
          "execution_count": 4
        }
      ]
    },
    {
      "cell_type": "code",
      "source": [
        "y = np.concatenate(([0]*2748, [1]*55, [0]*2748, [1]*55, [0]*826, [1]*45, [0]*826, [1]*45))\n",
        "y_train = utils.to_categorical(np.asarray(y))\n",
        "y_train.shape"
      ],
      "metadata": {
        "id": "9z4XVza12wZh",
        "colab": {
          "base_uri": "https://localhost:8080/"
        },
        "outputId": "c1ab87dd-6f74-47c4-f57b-8e7c345dedb8"
      },
      "execution_count": 5,
      "outputs": [
        {
          "output_type": "execute_result",
          "data": {
            "text/plain": [
              "(7348, 2)"
            ]
          },
          "metadata": {},
          "execution_count": 5
        }
      ]
    },
    {
      "cell_type": "code",
      "source": [
        "y_train"
      ],
      "metadata": {
        "colab": {
          "base_uri": "https://localhost:8080/"
        },
        "id": "OkekiSS7husc",
        "outputId": "760a6e3a-c9c7-48e6-ab7c-d4382a0e0831"
      },
      "execution_count": null,
      "outputs": [
        {
          "output_type": "execute_result",
          "data": {
            "text/plain": [
              "array([[1., 0.],\n",
              "       [1., 0.],\n",
              "       [1., 0.],\n",
              "       ...,\n",
              "       [0., 1.],\n",
              "       [0., 1.],\n",
              "       [0., 1.]], dtype=float32)"
            ]
          },
          "metadata": {},
          "execution_count": 36
        }
      ]
    },
    {
      "cell_type": "code",
      "source": [
        "token_dims = np.round(np.sqrt(raw_data[0].shape)).astype(\"uint8\")\n",
        "train_tokens = ImageTokenizerLayer(token_dims)(raw_data)\n",
        "train_tokens.shape"
      ],
      "metadata": {
        "colab": {
          "base_uri": "https://localhost:8080/"
        },
        "id": "lylhDW3k1xRx",
        "outputId": "5ebd9067-415c-4d82-945e-e90bcd65b474"
      },
      "execution_count": null,
      "outputs": [
        {
          "output_type": "execute_result",
          "data": {
            "text/plain": [
              "TensorShape([2803, 4, 4, 160])"
            ]
          },
          "metadata": {},
          "execution_count": 10
        }
      ]
    },
    {
      "cell_type": "code",
      "source": [
        "def display_tokens(img, tokenized_img):\n",
        "  if (img.shape[-1] == 3):\n",
        "    img = img[:, :, :]\n",
        "  else:\n",
        "    img = img[:,:,0]\n",
        "  plt.imshow(img.astype(\"uint8\"))\n",
        "  plt.title('Train Image')\n",
        "\n",
        "  fig, ax = plt.subplots(nrows=tokenized_img.shape[0],\n",
        "  ncols=tokenized_img.shape[1],\n",
        "  figsize=(4, 4),\n",
        "  subplot_kw=dict(xticks=[], yticks=[]))\n",
        "  for i in range(tokenized_img.shape[0]):\n",
        "    for j in range(tokenized_img.shape[1]):# Check if it an RGB image\n",
        "      if (tokenized_img.shape[-1] == 3):\n",
        "        token = np.reshape(tokenized_img[i, j, :], (token_dims[0], token_dims[1], 3))\n",
        "      else:# Show graysclae\n",
        "        token = np.reshape(tokenized_img[i, j, :], (token_dims[0], token_dims[1]))\n",
        "        ax[i,j].imshow(token)\n",
        "        plt.gcf().suptitle('Image Tokens')\n",
        "\n",
        "  fig, ax = plt.subplots(nrows=1,\n",
        "  ncols=tokenized_img.shape[0]*tokenized_img.shape[1],\n",
        "  figsize=(18, 2),\n",
        "  subplot_kw=dict(xticks=[], yticks=[]))\n",
        "  for i in range(tokenized_img.shape[0]):\n",
        "    for j in range(tokenized_img.shape[1]):# Check if it an RGB image\n",
        "      if (tokenized_img.shape[-1] == 3):\n",
        "        token = np.reshape(tokenized_img[i, j, :], (token_dims[0], token_dims[1], 3))\n",
        "      else:# Show graysclae\n",
        "        token = np.reshape(tokenized_img[i, j, :], (token_dims[0], token_dims[1]))\n",
        "        ax[i*tokenized_img.shape[1] + j].imshow(token)\n",
        "        plt.gcf().suptitle('Sequence of image tokens')\n",
        "  plt.show()\n",
        "\n",
        "\n",
        "token_dims = np.round(np.sqrt(train_X[0].shape)).astype(\"uint8\")\n",
        "train_tokens = ImageTokenizerLayer(token_dims)(train_X)\n",
        "test_tokens = ImageTokenizerLayer(token_dims)(test_X)\n",
        "\n",
        "n_rows = train_tokens.shape[1]\n",
        "n_cols = train_tokens.shape[2]\n",
        "\n",
        "print(\"Train data shape\", train_X.shape)\n",
        "print(\"Train tokens shape\", train_tokens.shape)\n",
        "\n",
        "display_tokens(train_X[0], train_tokens[0])"
      ],
      "metadata": {
        "id": "KwGYRm_cAxXv"
      },
      "execution_count": null,
      "outputs": []
    },
    {
      "cell_type": "markdown",
      "source": [
        "# **Writing a Customized Embedding Layer for the ViT**\n",
        "\n",
        "In a pure transformer architecture, all word tokens are encoded by summing their embeddings and their encoded positions. In the case of a ViT, the embedding layer projects an image linearly and sums it with its corresponding positional encoding. In this way, the positional encoding helps retain the order of a token in the sequence.\n",
        "\n",
        "Below, you can see the implementation of a custom layer for encoding each image token. The call() method implements the following steps:\n",
        "\n",
        "1. Normalize the input image tokens\n",
        "2. Project the normalized image tokens by using a Dense layer (Projection)\n",
        "3. Encode the positions using TensorFlow Embedding layer.\n",
        "4. Add the projections and the encoded positions. Return their sum.\n",
        "\n",
        "Here, the length of the resulting embedding is stored in the variable embed_dim, whose value cam be set by a user. Hence, the embedding layer produces an output of size total_tokens x embed_dim. Again, keep in mind that total_tokens = n_rows*ncols\n"
      ],
      "metadata": {
        "id": "gkFQLIn4M0PJ"
      }
    },
    {
      "cell_type": "code",
      "source": [
        "class ImageEmbeddingLayer(Layer):\n",
        "  def __init__(self, output_dim):\n",
        "    super(ImageEmbeddingLayer, self).__init__()\n",
        "    self.output_dim = output_dim\n",
        "\n",
        "  # Need to define the Dense layer for linear projections # Embedding layer for positions\n",
        "  def build(self, input_shape):\n",
        "    self.total_img_tokens = input_shape[1]*input_shape[2]\n",
        "    self.token_dims = input_shape[3]\n",
        "    self.normalize_layer = LayerNormalization()\n",
        "    self.dense = Dense(units=self.output_dim, input_shape=(None, self.token_dims))\n",
        "    self.position_embedding = Embedding(input_dim=self.total_img_tokens, output_dim=self.output_dim)\n",
        "\n",
        "  def call(self, input):\n",
        "    img_tokens = reshape(input, [-1, self.total_img_tokens, self.token_dims])\n",
        "    normalized_img_token = self.normalize_layer(img_tokens)\n",
        "    img_projection = self.dense(normalized_img_token)\n",
        "    all_positions = range(start=0, limit=self.total_img_tokens, delta=1)\n",
        "    positions_encoding = self.position_embedding(all_positions)\n",
        "    \n",
        "    return positions_encoding + img_projection"
      ],
      "metadata": {
        "id": "NKCu34G8ad4d"
      },
      "execution_count": 6,
      "outputs": []
    },
    {
      "cell_type": "code",
      "source": [
        "class EncoderLayer(Layer):\n",
        "  def __init__(self, total_heads, total_dense_units, embed_dim):\n",
        "    super(EncoderLayer, self).__init__()# Multihead attention layer\n",
        "    self.multihead = MultiHeadAttention(num_heads=total_heads, key_dim=embed_dim)# Feed forward network layer\n",
        "    self.nnw = Sequential([Dense(total_dense_units, activation=\"relu\"),Dense(embed_dim)])# Normalization\n",
        "    self.normalize_layer = LayerNormalization()\n",
        "\n",
        "  def call(self, inputs):\n",
        "    attn_output = self.multihead(inputs, inputs)\n",
        "    normalize_attn = self.normalize_layer(inputs + attn_output)\n",
        "    nnw_output = self.nnw(normalize_attn)\n",
        "    final_output = self.normalize_layer(normalize_attn + nnw_output)\n",
        "    \n",
        "    return final_output"
      ],
      "metadata": {
        "id": "RsdHHxc6rVg3"
      },
      "execution_count": 7,
      "outputs": []
    },
    {
      "cell_type": "markdown",
      "source": [
        "# **Build the ViT**\n",
        "\n",
        "It's time to construct the final ViT model from the ImageEmbeddingLayer and EncoderLayer. The final ouput of the transformer is produced by a softmax layer, where each unit of the layer corresponds to a category of the input image.\n",
        "\n",
        "The code below constructs a ViT with four encoder layers followed by GlobalAveragePooling1D layer, an intermediate Dense layer, and the output Dense layer."
      ],
      "metadata": {
        "id": "VA8jDh3SekOz"
      }
    },
    {
      "cell_type": "code",
      "source": [
        "# Set the hyperparameters\n",
        "EMBED_DIM = 256\n",
        "NUM_HEADS = 3\n",
        "TOTAL_DENSE = 100\n",
        "EPOCHS = 6\n",
        "FINAL_DENSE = 150\n",
        "DROPOUT = 0.5\n",
        "\n",
        "# Should return the model\n",
        "def build_vit(input_shape, embed_dim=EMBED_DIM, num_heads=NUM_HEADS, total_dense_units=TOTAL_DENSE):# Start connecting layers\n",
        "  inputs = Input(shape=input_shape)\n",
        "  embedding_layer = ImageEmbeddingLayer(embed_dim)(inputs)\n",
        "  encoder_layer1 = EncoderLayer(num_heads, total_dense_units, embed_dim)(embedding_layer)\n",
        "  encoder_layer2 = EncoderLayer(num_heads, total_dense_units, embed_dim)(encoder_layer1)\n",
        "  encoder_layer3 = EncoderLayer(num_heads, total_dense_units, embed_dim)(encoder_layer2)\n",
        "  encoder_layer4 = EncoderLayer(num_heads, total_dense_units, embed_dim)(encoder_layer3)\n",
        "  pooling_layer = GlobalAveragePooling1D()(encoder_layer4)\n",
        "  dense_layer = Dense(FINAL_DENSE, activation='relu')(pooling_layer)\n",
        "  dropout_layer = Dropout(DROPOUT)(dense_layer)\n",
        "  \n",
        "  outputs = Dense(2, activation=\"softmax\")(dense_layer)# Construct the transformer model\n",
        " \n",
        "  ViT = Model(inputs=inputs, outputs=outputs)\n",
        "  ViT.compile(optimizer=\"adam\", loss='categorical_crossentropy',\n",
        "  metrics=['accuracy', 'Precision','Recall', TopKCategoricalAccuracy(5, name='top-5-accuracy')])\n",
        "  \n",
        "  return ViT"
      ],
      "metadata": {
        "id": "hGHaodBsovce"
      },
      "execution_count": 8,
      "outputs": []
    },
    {
      "cell_type": "code",
      "source": [
        "vit = build_vit(x_train[0].shape)"
      ],
      "metadata": {
        "id": "QzAU4fhcrRAM"
      },
      "execution_count": 9,
      "outputs": []
    },
    {
      "cell_type": "code",
      "source": [
        "vit.summary()"
      ],
      "metadata": {
        "id": "5RuXBavRnt2F",
        "colab": {
          "base_uri": "https://localhost:8080/"
        },
        "outputId": "dc83be34-dd0b-4f97-8356-f3143d986e79"
      },
      "execution_count": 10,
      "outputs": [
        {
          "output_type": "stream",
          "name": "stdout",
          "text": [
            "Model: \"model\"\n",
            "_________________________________________________________________\n",
            " Layer (type)                Output Shape              Param #   \n",
            "=================================================================\n",
            " input_1 (InputLayer)        [(None, 16, 16, 10)]      0         \n",
            "                                                                 \n",
            " image_embedding_layer (Imag  (None, 256, 256)         68372     \n",
            " eEmbeddingLayer)                                                \n",
            "                                                                 \n",
            " encoder_layer (EncoderLayer  (None, 256, 256)         841060    \n",
            " )                                                               \n",
            "                                                                 \n",
            " encoder_layer_1 (EncoderLay  (None, 256, 256)         841060    \n",
            " er)                                                             \n",
            "                                                                 \n",
            " encoder_layer_2 (EncoderLay  (None, 256, 256)         841060    \n",
            " er)                                                             \n",
            "                                                                 \n",
            " encoder_layer_3 (EncoderLay  (None, 256, 256)         841060    \n",
            " er)                                                             \n",
            "                                                                 \n",
            " global_average_pooling1d (G  (None, 256)              0         \n",
            " lobalAveragePooling1D)                                          \n",
            "                                                                 \n",
            " dense_8 (Dense)             (None, 150)               38550     \n",
            "                                                                 \n",
            " dense_9 (Dense)             (None, 2)                 302       \n",
            "                                                                 \n",
            "=================================================================\n",
            "Total params: 3,471,464\n",
            "Trainable params: 3,471,464\n",
            "Non-trainable params: 0\n",
            "_________________________________________________________________\n"
          ]
        }
      ]
    },
    {
      "cell_type": "code",
      "source": [
        "idx = np.random.permutation(len(x_train))\n",
        "x_train_shuffle, y_train_shuffle = x_train[idx], y_train[idx]"
      ],
      "metadata": {
        "id": "bqStRKa8n2fk"
      },
      "execution_count": 11,
      "outputs": []
    },
    {
      "cell_type": "code",
      "source": [
        "from tensorflow import keras"
      ],
      "metadata": {
        "id": "lPreUkS3pDtM"
      },
      "execution_count": null,
      "outputs": []
    },
    {
      "cell_type": "code",
      "source": [
        "callbacks = [\n",
        "    keras.callbacks.ModelCheckpoint(\n",
        "        \"best_model.h5\", save_best_only=True, monitor=\"val_loss\"\n",
        "    ),\n",
        "    keras.callbacks.ReduceLROnPlateau(\n",
        "        monitor=\"val_loss\", factor=0.5, patience=20, min_lr=0.00001\n",
        "    ),\n",
        "    keras.callbacks.EarlyStopping(monitor=\"val_loss\", patience=50, verbose=1),\n",
        "]"
      ],
      "metadata": {
        "id": "JEsYORUlo9DG"
      },
      "execution_count": null,
      "outputs": []
    },
    {
      "cell_type": "code",
      "source": [
        "EPOCHS = 10\n",
        "start_time = time.time()\n",
        "history = vit.fit(x_train_shuffle,\n",
        "                  y_train_shuffle,\n",
        "                  batch_size = 32,\n",
        "                  epochs = EPOCHS,\n",
        "                  validation_split = 0.3,\n",
        "                  # callbacks=callbacks,\n",
        "                  )\n",
        "end_time = time.time()\n",
        "\n",
        "print('\\n ViT training time: ', end_time - start_time)"
      ],
      "metadata": {
        "id": "sJypEaLThjm1",
        "colab": {
          "base_uri": "https://localhost:8080/"
        },
        "outputId": "5dd04741-c9ae-4130-f139-10f4f81e6be2"
      },
      "execution_count": 12,
      "outputs": [
        {
          "output_type": "stream",
          "name": "stdout",
          "text": [
            "Epoch 1/10\n",
            "161/161 [==============================] - 27s 133ms/step - loss: 0.1476 - accuracy: 0.9662 - precision: 0.9662 - recall: 0.9662 - top-5-accuracy: 1.0000 - val_loss: 0.1133 - val_accuracy: 0.9760 - val_precision: 0.9760 - val_recall: 0.9760 - val_top-5-accuracy: 1.0000\n",
            "Epoch 2/10\n",
            "161/161 [==============================] - 21s 133ms/step - loss: 0.1478 - accuracy: 0.9712 - precision: 0.9712 - recall: 0.9712 - top-5-accuracy: 1.0000 - val_loss: 0.1386 - val_accuracy: 0.9760 - val_precision: 0.9760 - val_recall: 0.9760 - val_top-5-accuracy: 1.0000\n",
            "Epoch 3/10\n",
            "161/161 [==============================] - 23s 140ms/step - loss: 0.1359 - accuracy: 0.9714 - precision: 0.9714 - recall: 0.9714 - top-5-accuracy: 1.0000 - val_loss: 0.1142 - val_accuracy: 0.9760 - val_precision: 0.9760 - val_recall: 0.9760 - val_top-5-accuracy: 1.0000\n",
            "Epoch 4/10\n",
            "161/161 [==============================] - 22s 137ms/step - loss: 0.1383 - accuracy: 0.9714 - precision: 0.9714 - recall: 0.9714 - top-5-accuracy: 1.0000 - val_loss: 0.1155 - val_accuracy: 0.9760 - val_precision: 0.9760 - val_recall: 0.9760 - val_top-5-accuracy: 1.0000\n",
            "Epoch 5/10\n",
            "161/161 [==============================] - 22s 134ms/step - loss: 0.1347 - accuracy: 0.9714 - precision: 0.9714 - recall: 0.9714 - top-5-accuracy: 1.0000 - val_loss: 0.1134 - val_accuracy: 0.9760 - val_precision: 0.9760 - val_recall: 0.9760 - val_top-5-accuracy: 1.0000\n",
            "Epoch 6/10\n",
            "161/161 [==============================] - 22s 136ms/step - loss: 0.1354 - accuracy: 0.9714 - precision: 0.9714 - recall: 0.9714 - top-5-accuracy: 1.0000 - val_loss: 0.1143 - val_accuracy: 0.9760 - val_precision: 0.9760 - val_recall: 0.9760 - val_top-5-accuracy: 1.0000\n",
            "Epoch 7/10\n",
            "161/161 [==============================] - 22s 138ms/step - loss: 0.1337 - accuracy: 0.9714 - precision: 0.9714 - recall: 0.9714 - top-5-accuracy: 1.0000 - val_loss: 0.1165 - val_accuracy: 0.9760 - val_precision: 0.9760 - val_recall: 0.9760 - val_top-5-accuracy: 1.0000\n",
            "Epoch 8/10\n",
            "161/161 [==============================] - 22s 136ms/step - loss: 0.1317 - accuracy: 0.9714 - precision: 0.9714 - recall: 0.9714 - top-5-accuracy: 1.0000 - val_loss: 0.1134 - val_accuracy: 0.9760 - val_precision: 0.9760 - val_recall: 0.9760 - val_top-5-accuracy: 1.0000\n",
            "Epoch 9/10\n",
            "161/161 [==============================] - 22s 135ms/step - loss: 0.1320 - accuracy: 0.9714 - precision: 0.9714 - recall: 0.9714 - top-5-accuracy: 1.0000 - val_loss: 0.1240 - val_accuracy: 0.9760 - val_precision: 0.9760 - val_recall: 0.9760 - val_top-5-accuracy: 1.0000\n",
            "Epoch 10/10\n",
            "161/161 [==============================] - 22s 136ms/step - loss: 0.1322 - accuracy: 0.9714 - precision: 0.9714 - recall: 0.9714 - top-5-accuracy: 1.0000 - val_loss: 0.1240 - val_accuracy: 0.9760 - val_precision: 0.9760 - val_recall: 0.9760 - val_top-5-accuracy: 1.0000\n",
            "\n",
            " ViT training time:  224.05988383293152\n"
          ]
        }
      ]
    },
    {
      "cell_type": "code",
      "metadata": {
        "id": "ttzFoPDm1rtD"
      },
      "source": [
        "n_metrics = int(len(history.history.keys())/2)\n",
        "metrics = list(history.history.values())\n",
        "metric_names = list(history.history.keys())"
      ],
      "execution_count": 13,
      "outputs": []
    },
    {
      "cell_type": "code",
      "metadata": {
        "id": "iHtQvw6UeDxB",
        "colab": {
          "base_uri": "https://localhost:8080/",
          "height": 1000
        },
        "outputId": "764b3e2a-b5db-42c8-bbf6-b03b365e48cb"
      },
      "source": [
        "fig = plt.figure(figsize=(18, 4))\n",
        "\n",
        "for i in np.arange(n_metrics):\n",
        "  fig.add_subplot(101 + n_metrics*10 + i)\n",
        "  plt.plot(metrics[i])\n",
        "  plt.plot(metrics[i + n_metrics])\n",
        "  plt.legend(['Training', 'Validation'])\n",
        "  plt.xlabel('Epoch number')\n",
        "  plt.ylabel(metric_names[i])\n",
        "\n",
        "  plt.gcf().suptitle('Learning History of the ViT')\n",
        "\n",
        "  plt.subplots_adjust(wspace=0.4)\n",
        "  plt.show()\n"
      ],
      "execution_count": 14,
      "outputs": [
        {
          "output_type": "display_data",
          "data": {
            "text/plain": [
              "<Figure size 1296x288 with 1 Axes>"
            ],
            "image/png": "[encoded data removed]"
          },
          "metadata": {
            "needs_background": "light"
          }
        },
        {
          "output_type": "display_data",
          "data": {
            "text/plain": [
              "<Figure size 432x288 with 1 Axes>"
            ],
            "image/png": "[encoded data removed]"
          },
          "metadata": {
            "needs_background": "light"
          }
        },
        {
          "output_type": "display_data",
          "data": {
            "text/plain": [
              "<Figure size 432x288 with 1 Axes>"
            ],
            "image/png": "[encoded data removed]"
          },
          "metadata": {
            "needs_background": "light"
          }
        },
        {
          "output_type": "display_data",
          "data": {
            "text/plain": [
              "<Figure size 432x288 with 1 Axes>"
            ],
            "image/png": "[encoded data removed]"
          },
          "metadata": {
            "needs_background": "light"
          }
        },
        {
          "output_type": "display_data",
          "data": {
            "text/plain": [
              "<Figure size 432x288 with 1 Axes>"
            ],
            "image/png": "[encoded data removed]"
          },
          "metadata": {
            "needs_background": "light"
          }
        }
      ]
    },
    {
      "cell_type": "code",
      "source": [
        "train_metrics = vit.evaluate(x_train_shuffle, y_train_shuffle)\n",
        "#test_metrics = vit.evaluate(test_tokens, test_Y_categorical)"
      ],
      "metadata": {
        "colab": {
          "base_uri": "https://localhost:8080/"
        },
        "id": "bVfwhooboNlf",
        "outputId": "90073866-fa0f-4203-d9df-f00b8b217945"
      },
      "execution_count": 15,
      "outputs": [
        {
          "output_type": "stream",
          "name": "stdout",
          "text": [
            "230/230 [==============================] - 11s 46ms/step - loss: 0.1331 - accuracy: 0.9728 - precision: 0.9728 - recall: 0.9728 - top-5-accuracy: 1.0000\n"
          ]
        }
      ]
    },
    {
      "cell_type": "code",
      "source": [
        "print('\\nTraining set evaluation of ViT')\n",
        "\n",
        "for i, value in enumerate(train_metrics):\n",
        "  print(metric_names[i], ': ', value)\n",
        "  print('\\nTest set evaluation of ViT')\n",
        "  \n",
        "# for i, value in enumerate(test_metrics):\n",
        "#   print(metric_names[i], ': ', value)"
      ],
      "metadata": {
        "colab": {
          "base_uri": "https://localhost:8080/"
        },
        "id": "4VrMyPJ1oZVo",
        "outputId": "b7ff9868-9854-4674-f61f-5aa55965caaf"
      },
      "execution_count": 16,
      "outputs": [
        {
          "output_type": "stream",
          "name": "stdout",
          "text": [
            "\n",
            "Training set evaluation of ViT\n",
            "loss :  0.1331355720758438\n",
            "\n",
            "Test set evaluation of ViT\n",
            "accuracy :  0.9727817177772522\n",
            "\n",
            "Test set evaluation of ViT\n",
            "precision :  0.9727817177772522\n",
            "\n",
            "Test set evaluation of ViT\n",
            "recall :  0.9727817177772522\n",
            "\n",
            "Test set evaluation of ViT\n",
            "top-5-accuracy :  1.0\n",
            "\n",
            "Test set evaluation of ViT\n"
          ]
        }
      ]
    },
    {
      "cell_type": "code",
      "source": [
        "x_hor_1_3_pred = vit.predict(x_hor_test)"
      ],
      "metadata": {
        "colab": {
          "base_uri": "https://localhost:8080/"
        },
        "id": "7qVCmgudDWvx",
        "outputId": "30d5ca18-1ac0-40aa-bb4c-6d0d2cc549c3"
      },
      "execution_count": 35,
      "outputs": [
        {
          "output_type": "stream",
          "name": "stdout",
          "text": [
            "75/75 [==============================] - 4s 44ms/step\n"
          ]
        }
      ]
    },
    {
      "cell_type": "code",
      "source": [
        "x_hor_1_3_pred[2370]"
      ],
      "metadata": {
        "colab": {
          "base_uri": "https://localhost:8080/"
        },
        "id": "nxNlSwdFDh4m",
        "outputId": "66ad30e4-0019-4249-a1d3-0ee215e8f165"
      },
      "execution_count": 50,
      "outputs": [
        {
          "output_type": "execute_result",
          "data": {
            "text/plain": [
              "array([0.94659996, 0.05340008], dtype=float32)"
            ]
          },
          "metadata": {},
          "execution_count": 50
        }
      ]
    },
    {
      "cell_type": "code",
      "source": [
        "classes = []\n",
        "for pred in x_hor_1_3_pred:\n",
        "  idx = tf.math.argmax(pred)\n",
        "  if idx.numpy() == 1:\n",
        "    print(f\"failure occurs: {idx.numpy()}\")\n",
        "  classes.append(idx.numpy())\n",
        "#classes"
      ],
      "metadata": {
        "id": "kzGg5RsYFgNx"
      },
      "execution_count": 48,
      "outputs": []
    },
    {
      "cell_type": "code",
      "source": [
        "plt.plot(classes)"
      ],
      "metadata": {
        "colab": {
          "base_uri": "https://localhost:8080/",
          "height": 283
        },
        "id": "kE8ZFfzkGmbI",
        "outputId": "7c3a5a61-4692-4ec9-b635-9e854e0fdd51"
      },
      "execution_count": 47,
      "outputs": [
        {
          "output_type": "execute_result",
          "data": {
            "text/plain": [
              "[<matplotlib.lines.Line2D at 0x7f6d56439590>]"
            ]
          },
          "metadata": {},
          "execution_count": 47
        },
        {
          "output_type": "display_data",
          "data": {
            "text/plain": [
              "<Figure size 432x288 with 1 Axes>"
            ],
            "image/png": "[encoded data removed]"
          },
          "metadata": {
            "needs_background": "light"
          }
        }
      ]
    },
    {
      "cell_type": "markdown",
      "source": [
        "# **How To Make the ViT Faster**\n",
        "\n",
        "While there are several methods for making the ViT faster, we will implement the TokenLearner of Ryoo and colleagues.\n",
        "The TokenLearner layer learns to identify important tokens in the input data. It then dynamically selects these tokens conditioned on the input, reducing the number of tokens used for classifying images. This algorithm mimics the elementwise spatial self-attention"
      ],
      "metadata": {
        "id": "Vugfwv_0o_AZ"
      }
    },
    {
      "cell_type": "markdown",
      "source": [
        "# **What is the Basic TokenLearner Algorithm?**\n",
        "\n",
        "Here is the basic algorithm for the layer that implements the TokenLearner. In the algorithm below, n_maps represents the number of fature maps and is a user-supplied parameter.\n",
        "\n",
        "1. Compute weight maps conditioned on the inputs. The number of weight maps are n_maps. They effectively represent the attention weights. The weights have dimensions n_rows x n_cols x n_maps.\n",
        "2. Reshape the weights to total_tokens x n_maps.\n",
        "3. Multiply the weight maps by the inputs to get weighted inputs. The input size is total_tokens x embed_dim and the resulting weighted input size is total_tokens x n_maps x embed_dim.\n",
        "4. Apply spatial global everage pooling to reduce the dimensions of the weighted inputs to n_maps x embed_dim."
      ],
      "metadata": {
        "id": "RcW_KUY_qLZo"
      }
    },
    {
      "cell_type": "markdown",
      "source": [
        "How Is the Weight Map Computed?\n",
        "\n",
        "the authors compute the weight map of the TokenLearner as follows:\n",
        "\n",
        "1. Reshape the inputs to n_rows x n_cols x embed_dim.\n",
        "2. Pass the inputs through a series of convolution layers with a Gaussian Error Linear Unit (GELU) activation function. \n",
        "3. Pass the convolved output through a convolution layer with sigmoid activation function. The dimensions of the result are n_rows x n_cols x n_maps."
      ],
      "metadata": {
        "id": "kuKCMa6hvI-n"
      }
    },
    {
      "cell_type": "markdown",
      "source": [
        "# **Where Is the Token Learner in the Transformer Network?**\n",
        "\n",
        "the Authors suggest you place the TokenLearner layer anywhere between the transformer encoder layers. They experimented with placing this layer at different points in the network. They observed that inserting the TokenLearner after the initial one quarter of the network reduces the computations to less than a third of the baseline with no compromise in accuracy. Moreover, if this layer is inserted further down in the network, the resulting model has improved accuracy\n"
      ],
      "metadata": {
        "id": "0iWNoz5owQhm"
      }
    },
    {
      "cell_type": "code",
      "source": [
        "n_rows = x_train_shuffle.shape[1]\n",
        "n_cols = x_train_shuffle.shape[2]"
      ],
      "metadata": {
        "id": "ngv_T9xrB2Ps"
      },
      "execution_count": 25,
      "outputs": []
    },
    {
      "cell_type": "code",
      "source": [
        "class TokenLearningLayer(Layer):\n",
        "  def __init__(self, n_maps, token_dims):\n",
        "    super(TokenLearningLayer, self).__init__()\n",
        "    self.n_maps = n_maps\n",
        "    self.token_dims = token_dims\n",
        "\n",
        "  def build(self, input_shape):\n",
        "    self.input_embed_dim = input_shape[-1]\n",
        "    self.model = Sequential()# Add Reshape layer to make a nrow x ncol x embed_dim shape\n",
        "    self.model.add(Reshape((self.token_dims[0], self.token_dims[1], self.input_embed_dim)))# Connect 4 Conv2D layers\n",
        "    \n",
        "    for i in range(4):\n",
        "        conv2D_layer = Conv2D(filters=self.n_maps, kernel_size=(3, 3), activation=gelu, padding=\"same\", use_bias=False)\n",
        "\n",
        "        self.model.add(conv2D_layer)# Connect with the last conv2D with sigmoid filter\n",
        "\n",
        "    conv2D_sigmoid_layer = Conv2D(filters=self.n_maps, kernel_size=(3, 3), activation=\"sigmoid\", padding=\"same\", use_bias=False)\n",
        "    \n",
        "    self.model.add(conv2D_sigmoid_layer)# Reshape to (batch, nrow*ncol, n_maps)\n",
        "    self.model.add(Reshape((-1, self.n_maps)))\n",
        "  \n",
        "  def call(self, inputs):\n",
        "    total_tokens = inputs.shape[1] # attn_wts shape: (batch, row*col, n_maps)\n",
        "    attn_wts = self.model(inputs) # Reshape inputs and attn_wts to match dimensions for multiplication\n",
        "    inputs = Reshape((total_tokens, 1, self.input_embed_dim))(inputs)\n",
        "    attn_wts = Reshape((total_tokens, self.n_maps, 1))(attn_wts) # attended_output has shape (batch, row*col, n_maps, embed_dim)\n",
        "    attended_output = inputs*attn_wts\n",
        "    # Pool the result, will reduce one dimension\n",
        "    output = reduce_mean(attended_output, axis=1)\n",
        "    \n",
        "    return output"
      ],
      "metadata": {
        "id": "WRGIaogoxbVW"
      },
      "execution_count": 17,
      "outputs": []
    },
    {
      "cell_type": "code",
      "source": [
        "n_classes = 2"
      ],
      "metadata": {
        "id": "nXxs129rCRjM"
      },
      "execution_count": 27,
      "outputs": []
    },
    {
      "cell_type": "code",
      "source": [
        "class TokenFuserLayer(Layer):\n",
        "  def __init__(self, n_maps, token_dims):\n",
        "    super(TokenFuserLayer, self).__init__()\n",
        "    self.n_maps = n_maps\n",
        "    self.token_dims = token_dims\n",
        "    \n",
        "  \n",
        "  def build(self, input_shape):\n",
        "    self.input_embed_dim = input_shape[-1]\n",
        "    self.model = Sequential()# Add Reshape layer to make a nrow x ncol x embed_dim shape\n",
        "    self.model.add(Reshape((self.token_dims[0], self.token_dims[1], self.input_embed_dim)))# Connect 4 Conv2D layers\n",
        "    \n",
        "    for i in range(4):\n",
        "        conv2D_layer = Conv2D(filters=self.n_maps, kernel_size=(3, 3), activation=gelu, padding=\"same\", use_bias=False)\n",
        "\n",
        "        self.model.add(conv2D_layer)# Connect with the last conv2D with sigmoid filter\n",
        "\n",
        "    conv2D_sigmoid_layer = Conv2D(filters=self.n_maps, kernel_size=(3, 3), activation=\"sigmoid\", padding=\"same\", use_bias=False)\n",
        "    \n",
        "    self.model.add(conv2D_sigmoid_layer)# Reshape to (batch, nrow*ncol, n_maps)\n",
        "    self.model.add(Reshape((-1, self.n_maps)))\n",
        "\n",
        "    self.transform_model = Sequential()\n",
        "    self.transform_model.add(Reshape((EMBED_DIM, NMAPS)))\n",
        "    self.transform_model.add(Dense(NMAPS, activation = None))\n",
        "    self.transform_model.add(Reshape((NMAPS, EMBED_DIM)))\n",
        "\n",
        "    self.bw_transform = Sequential()\n",
        "    self.bw_transform.add(Dense(NMAPS, activation = \"sigmoid\"))\n",
        "    self.bw_transform.add(Reshape((int(n_rows*n_cols), NMAPS)))\n",
        "\n",
        "  def call(self, inputs, original):\n",
        "\n",
        "    B, S, C = inputs.shape\n",
        "    B, hw, C = original.shape\n",
        "    H = np.sqrt(hw)\n",
        "    W = hw // H\n",
        "\n",
        "    \n",
        "    inputs_transform = self.transform_model(inputs)\n",
        "    \n",
        "\n",
        "    Bw = self.bw_transform(original)\n",
        "    BwY = tf.matmul(Bw, inputs_transform)\n",
        "\n",
        "\n",
        "    attn_wts = self.model(original)\n",
        "\n",
        "    #output = tf.reshape(BwY + attn_wts, (int(H), int(W), C))\n",
        "    \n",
        "    return BwY + attn_wts"
      ],
      "metadata": {
        "id": "3JjGa7u37yYR"
      },
      "execution_count": null,
      "outputs": []
    },
    {
      "cell_type": "code",
      "source": [
        "NMAPS=4"
      ],
      "metadata": {
        "id": "dwd5HYq7HeDS"
      },
      "execution_count": 18,
      "outputs": []
    },
    {
      "cell_type": "code",
      "source": [
        "class EmbeddingLayer(Layer):\n",
        "  def __init__(self, token_dims, embed_dim):\n",
        "    super(EmbeddingLayer, self).__init__()\n",
        "    \n",
        "    self.token_dims = token_dims\n",
        "    self.embed_dim = embed_dim\n",
        "\n",
        "  # Need to define the Dense layer for linear projections # Embedding layer for positions\n",
        "  def build(self, input_shape):\n",
        "    print(f\"Input shape: {input_shape}\")\n",
        "    self.bw_transform = Sequential()\n",
        "    self.bw_transform.add(Reshape((-1, self.token_dims[0]*self.token_dims[1], self.embed_dim)))\n",
        "\n",
        "  def call(self, input):\n",
        "    img_projection = self.bw_transform(input)\n",
        "    \n",
        "    return img_projection"
      ],
      "metadata": {
        "id": "XAfq0NKPKBUi"
      },
      "execution_count": null,
      "outputs": []
    },
    {
      "cell_type": "code",
      "source": [
        "# Set the hyperparameters\n",
        "EMBED_DIM = 128\n",
        "NUM_HEADS = 3\n",
        "TOTAL_DENSE = 100\n",
        "EPOCHS = 6\n",
        "FINAL_DENSE = 150\n",
        "DROPOUT = 0.5"
      ],
      "metadata": {
        "id": "9TKzhYpiOLQa"
      },
      "execution_count": 19,
      "outputs": []
    },
    {
      "cell_type": "code",
      "source": [
        "def build_fast_vit(input_shape, embed_dim=EMBED_DIM, num_heads=NUM_HEADS, total_dense_units=TOTAL_DENSE, n_maps=NMAPS):# Start connecting layers\n",
        "    \n",
        "    inputs = Input(shape=x_train_shuffle[0].shape)#tokenizer_layer = ImageTokenizerLayer(token_dims)(inputs)\n",
        "    embedding_layer = ImageEmbeddingLayer(embed_dim)(inputs)\n",
        "    encoder_layer1 = EncoderLayer(num_heads, total_dense_units, embed_dim)(embedding_layer)\n",
        "    encoder_layer2 = EncoderLayer(num_heads, total_dense_units, embed_dim)(encoder_layer1)\n",
        "\n",
        "    print(f\"encoder layer output: {encoder_layer2.shape}\")\n",
        "\n",
        "    token_learning_layer = TokenLearningLayer(n_maps, (n_rows, n_cols))(encoder_layer2)\n",
        "\n",
        "    encoder_layer3 = EncoderLayer(num_heads, total_dense_units, embed_dim)(token_learning_layer)\n",
        "    encoder_layer4 = EncoderLayer(num_heads, total_dense_units, embed_dim)(encoder_layer3)\n",
        "\n",
        "    #token_fuser_layer = TokenFuserLayer(EMBED_DIM, (n_rows, n_cols))(encoder_layer3, encoder_layer2)\n",
        "    #embedding_layer = EmbeddingLayer((n_rows, n_cols), embed_dim)(token_fuser_layer)\n",
        "\n",
        "    pooling_layer = GlobalAveragePooling1D()(encoder_layer4)\n",
        "    dense_layer = Dense(150, activation='relu')(pooling_layer)\n",
        "    dropout_layer = Dropout(.5)(dense_layer)\n",
        "\n",
        "    outputs = Dense(n_classes, activation=\"softmax\")(dense_layer)# Construct the transformer model\n",
        "    fast_vit = Model(inputs=inputs, outputs=outputs)\n",
        "\n",
        "    fast_vit.compile(optimizer=\"adam\", loss=\"categorical_crossentropy\",\n",
        "    metrics=['accuracy', 'Precision', 'Recall',\n",
        "    TopKCategoricalAccuracy(5, name=\"top-5-accuracy\")])\n",
        "\n",
        "    return fast_vit"
      ],
      "metadata": {
        "id": "jaqGQg7SyOKe"
      },
      "execution_count": 23,
      "outputs": []
    },
    {
      "cell_type": "code",
      "source": [
        "fast_vit = build_fast_vit(x_train_shuffle[0].shape)"
      ],
      "metadata": {
        "colab": {
          "base_uri": "https://localhost:8080/"
        },
        "id": "a7acSTWpDYaa",
        "outputId": "2efae97d-f6f7-414f-ca4b-b7c802f3a317"
      },
      "execution_count": 28,
      "outputs": [
        {
          "output_type": "stream",
          "name": "stdout",
          "text": [
            "encoder layer output: (None, 256, 128)\n"
          ]
        }
      ]
    },
    {
      "cell_type": "code",
      "source": [
        "fast_vit.summary()"
      ],
      "metadata": {
        "colab": {
          "base_uri": "https://localhost:8080/"
        },
        "id": "rpQfLac-PQ65",
        "outputId": "d2d6642d-9bec-4452-9fcb-be5dffe1ef4f"
      },
      "execution_count": 29,
      "outputs": [
        {
          "output_type": "stream",
          "name": "stdout",
          "text": [
            "Model: \"model_1\"\n",
            "_________________________________________________________________\n",
            " Layer (type)                Output Shape              Param #   \n",
            "=================================================================\n",
            " input_4 (InputLayer)        [(None, 16, 16, 10)]      0         \n",
            "                                                                 \n",
            " image_embedding_layer_3 (Im  (None, 256, 128)         34196     \n",
            " ageEmbeddingLayer)                                              \n",
            "                                                                 \n",
            " encoder_layer_10 (EncoderLa  (None, 256, 128)         223972    \n",
            " yer)                                                            \n",
            "                                                                 \n",
            " encoder_layer_11 (EncoderLa  (None, 256, 128)         223972    \n",
            " yer)                                                            \n",
            "                                                                 \n",
            " token_learning_layer_1 (Tok  (None, 4, 128)           5184      \n",
            " enLearningLayer)                                                \n",
            "                                                                 \n",
            " encoder_layer_12 (EncoderLa  (None, 4, 128)           223972    \n",
            " yer)                                                            \n",
            "                                                                 \n",
            " encoder_layer_13 (EncoderLa  (None, 4, 128)           223972    \n",
            " yer)                                                            \n",
            "                                                                 \n",
            " global_average_pooling1d_2   (None, 128)              0         \n",
            " (GlobalAveragePooling1D)                                        \n",
            "                                                                 \n",
            " dense_31 (Dense)            (None, 150)               19350     \n",
            "                                                                 \n",
            " dense_32 (Dense)            (None, 2)                 302       \n",
            "                                                                 \n",
            "=================================================================\n",
            "Total params: 954,920\n",
            "Trainable params: 954,920\n",
            "Non-trainable params: 0\n",
            "_________________________________________________________________\n"
          ]
        }
      ]
    },
    {
      "cell_type": "code",
      "source": [
        "start_time = time.time()\n",
        "history_fast = fast_vit.fit(x_train_shuffle, y_train_shuffle,\n",
        "batch_size=32, epochs=EPOCHS, validation_split=0.33)\n",
        "end_time = time.time()\n",
        "print('\\nTime to train fast_vit', end_time-start_time)"
      ],
      "metadata": {
        "colab": {
          "base_uri": "https://localhost:8080/"
        },
        "id": "ZaNvCKJiPSl2",
        "outputId": "c227db86-53ba-4a7b-ceb4-fe799e831988"
      },
      "execution_count": 31,
      "outputs": [
        {
          "output_type": "stream",
          "name": "stdout",
          "text": [
            "Epoch 1/6\n",
            "154/154 [==============================] - 16s 53ms/step - loss: 0.1433 - accuracy: 0.9705 - precision: 0.9705 - recall: 0.9705 - top-5-accuracy: 1.0000 - val_loss: 0.1194 - val_accuracy: 0.9773 - val_precision: 0.9773 - val_recall: 0.9773 - val_top-5-accuracy: 1.0000\n",
            "Epoch 2/6\n",
            "154/154 [==============================] - 7s 47ms/step - loss: 0.1403 - accuracy: 0.9705 - precision: 0.9705 - recall: 0.9705 - top-5-accuracy: 1.0000 - val_loss: 0.1111 - val_accuracy: 0.9773 - val_precision: 0.9773 - val_recall: 0.9773 - val_top-5-accuracy: 1.0000\n",
            "Epoch 3/6\n",
            "154/154 [==============================] - 8s 52ms/step - loss: 0.1370 - accuracy: 0.9705 - precision: 0.9705 - recall: 0.9705 - top-5-accuracy: 1.0000 - val_loss: 0.1101 - val_accuracy: 0.9773 - val_precision: 0.9773 - val_recall: 0.9773 - val_top-5-accuracy: 1.0000\n",
            "Epoch 4/6\n",
            "154/154 [==============================] - 7s 47ms/step - loss: 0.1383 - accuracy: 0.9705 - precision: 0.9705 - recall: 0.9705 - top-5-accuracy: 1.0000 - val_loss: 0.1104 - val_accuracy: 0.9773 - val_precision: 0.9773 - val_recall: 0.9773 - val_top-5-accuracy: 1.0000\n",
            "Epoch 5/6\n",
            "154/154 [==============================] - 7s 46ms/step - loss: 0.1346 - accuracy: 0.9705 - precision: 0.9705 - recall: 0.9705 - top-5-accuracy: 1.0000 - val_loss: 0.1090 - val_accuracy: 0.9773 - val_precision: 0.9773 - val_recall: 0.9773 - val_top-5-accuracy: 1.0000\n",
            "Epoch 6/6\n",
            "154/154 [==============================] - 7s 46ms/step - loss: 0.1369 - accuracy: 0.9705 - precision: 0.9705 - recall: 0.9705 - top-5-accuracy: 1.0000 - val_loss: 0.1085 - val_accuracy: 0.9773 - val_precision: 0.9773 - val_recall: 0.9773 - val_top-5-accuracy: 1.0000\n",
            "\n",
            "Time to train fast_vit 52.669556856155396\n"
          ]
        }
      ]
    },
    {
      "cell_type": "code",
      "source": [
        "n_metrics = int(len(history_fast.history.keys())/2)\n",
        "metrics = list(history_fast.history.values())\n",
        "metric_names = list(history_fast.history.keys())"
      ],
      "metadata": {
        "id": "noaMNan2QBLW"
      },
      "execution_count": 32,
      "outputs": []
    },
    {
      "cell_type": "code",
      "source": [
        "metrics_fast = list(history_fast.history.values())\n",
        "fig = plt.figure(figsize=(18,4))\n",
        "\n",
        "for i in np.arange(n_metrics):\n",
        "  fig.add_subplot(101 + n_metrics*10 +i)\n",
        "  plt.plot(metrics_fast[i])\n",
        "  plt.plot(metrics_fast[i+n_metrics])\n",
        "  plt.legend(['Training', 'Validation'])\n",
        "  plt.xlabel('Epoch Number')\n",
        "  plt.ylabel(metric_names[i])\n",
        "\n",
        "  plt.gcf().suptitle('Learning history of ViT with token learning layer')\n",
        "  plt.subplots_adjust(wspace=0.4)\n",
        "plt.show()"
      ],
      "metadata": {
        "colab": {
          "base_uri": "https://localhost:8080/",
          "height": 308
        },
        "id": "aRHpYDKSPzvl",
        "outputId": "38b295d0-45c6-4c93-9ecd-bed762d20b8a"
      },
      "execution_count": 33,
      "outputs": [
        {
          "output_type": "display_data",
          "data": {
            "text/plain": [
              "<Figure size 1296x288 with 5 Axes>"
            ],
            "image/png": "[encoded data removed]"
          },
          "metadata": {
            "needs_background": "light"
          }
        }
      ]
    },
    {
      "cell_type": "code",
      "source": [
        "!pip install tokenlearner-pytorch"
      ],
      "metadata": {
        "colab": {
          "base_uri": "https://localhost:8080/"
        },
        "id": "TUcXioJfQqy0",
        "outputId": "22b24ede-b306-4fc9-c8e3-a803586bb297"
      },
      "execution_count": null,
      "outputs": [
        {
          "output_type": "stream",
          "name": "stdout",
          "text": [
            "Looking in indexes: https://pypi.org/simple, https://us-python.pkg.dev/colab-wheels/public/simple/\n",
            "Collecting tokenlearner-pytorch\n",
            "  Downloading tokenlearner_pytorch-0.1.2-py3-none-any.whl (4.0 kB)\n",
            "Requirement already satisfied: torch in /usr/local/lib/python3.7/dist-packages (from tokenlearner-pytorch) (1.12.1+cu113)\n",
            "Requirement already satisfied: typing-extensions in /usr/local/lib/python3.7/dist-packages (from torch->tokenlearner-pytorch) (4.1.1)\n",
            "Installing collected packages: tokenlearner-pytorch\n",
            "Successfully installed tokenlearner-pytorch-0.1.2\n"
          ]
        }
      ]
    },
    {
      "cell_type": "code",
      "source": [
        "import torch\n",
        "import torch.nn as nn\n",
        "from tokenlearner_pytorch import TokenLearner, TokenFuser"
      ],
      "metadata": {
        "id": "k4e9m8mMSN9Z"
      },
      "execution_count": null,
      "outputs": []
    },
    {
      "cell_type": "code",
      "source": [
        "mhsa = nn.MultiheadAttention(3, 1)\n",
        "tklr = TokenLearner(S=8)\n",
        "tkfr = TokenFuser(H=32, W=32, C = 3, S=8)"
      ],
      "metadata": {
        "id": "bzE6SM4mSbAP"
      },
      "execution_count": null,
      "outputs": []
    },
    {
      "cell_type": "code",
      "source": [
        "x = torch.rand(512, 8, 3)"
      ],
      "metadata": {
        "id": "XbT97dbhStVQ"
      },
      "execution_count": null,
      "outputs": []
    },
    {
      "cell_type": "code",
      "source": [
        "projection = nn.Linear(8, 8, bias = False)"
      ],
      "metadata": {
        "id": "f-UmzKKBSys3"
      },
      "execution_count": null,
      "outputs": []
    },
    {
      "cell_type": "code",
      "source": [
        "y = projection(x.rehape(-1, 3, 8))\n",
        "y.shape"
      ],
      "metadata": {
        "id": "MPsz5YZHTNY-"
      },
      "execution_count": null,
      "outputs": []
    },
    {
      "cell_type": "code",
      "source": [
        "y = y.view(8, 512, 3)\n",
        "y.shape"
      ],
      "metadata": {
        "colab": {
          "base_uri": "https://localhost:8080/"
        },
        "id": "SAQdu4srTb4u",
        "outputId": "02b7e8cd-9183-41b2-b059-17373843faa1"
      },
      "execution_count": null,
      "outputs": [
        {
          "output_type": "execute_result",
          "data": {
            "text/plain": [
              "torch.Size([8, 512, 3])"
            ]
          },
          "metadata": {},
          "execution_count": 7
        }
      ]
    },
    {
      "cell_type": "code",
      "source": [
        "y, _ = mhsa(y, y, y)\n",
        "y.shape"
      ],
      "metadata": {
        "colab": {
          "base_uri": "https://localhost:8080/"
        },
        "id": "5JrJE1k_TjyC",
        "outputId": "7258e121-2356-4a12-f159-9301d56119ce"
      },
      "execution_count": null,
      "outputs": [
        {
          "output_type": "execute_result",
          "data": {
            "text/plain": [
              "torch.Size([8, 512, 3])"
            ]
          },
          "metadata": {},
          "execution_count": 8
        }
      ]
    }
  ]
}